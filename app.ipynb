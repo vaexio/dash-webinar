{
 "cells": [
  {
   "cell_type": "markdown",
   "metadata": {},
   "source": [
    "# Implementing the Dashboard components\n",
    "\n",
    "### Key points to remember:\n",
    "- Dash is functional, every user interaction should trigger a callback\n",
    "- Dash callbacks should not modify the data"
   ]
  },
  {
   "source": [
    "import dash\n",
    "from dash.dependencies import Input, Output, State\n",
    "import dash_core_components as dcc\n",
    "import dash_html_components as html\n",
    "\n",
    "from jupyter_dash import JupyterDash\n",
    "\n",
    "import plotly.express as px\n",
    "import plotly.graph_objs as go\n",
    "\n",
    "import numpy as np\n",
    "\n",
    "import vaex\n",
    "\n",
    "import os\n",
    "in_dash_enterprise = \"DASH_APP_NAME\" in os.environ"
   ],
   "cell_type": "code",
   "outputs": [],
   "metadata": {},
   "execution_count": 19
  },
  {
   "cell_type": "markdown",
   "metadata": {},
   "source": [
    "### Load the data"
   ]
  },
  {
   "source": [
    "if in_dash_enterprise:\n",
    "    df = vaex.open('s3://vaex/taxi/yellow_taxi_2015_f32s.hdf5?anon=true')\n",
    "    df['pickup_hour'] = df.pickup_datetime.dt.hour\n",
    "else:\n",
    "    df = vaex.open('/data/taxi/yellow_taxi_2009_2015_f32_app.hdf5')\n"
   ],
   "cell_type": "code",
   "outputs": [],
   "metadata": {},
   "execution_count": 21
  },
  {
   "cell_type": "markdown",
   "metadata": {},
   "source": [
    "### Create the selection"
   ]
  },
  {
   "cell_type": "code",
   "execution_count": null,
   "metadata": {
    "ExecuteTime": {
     "end_time": "2020-08-24T10:12:12.062666Z",
     "start_time": "2020-08-24T10:12:12.058715Z"
    }
   },
   "outputs": [],
   "source": [
    "def create_selection(hours=None):\n",
    "    selection = None  # Initial state - no selection\n",
    "    df_copy = df.copy()  # This creates a shallow copy which only references the original data \n",
    "    \n",
    "    if hours:\n",
    "        hour_min, hour_max = hours\n",
    "        if hour_min > 0:\n",
    "            df_copy.select(hour_min <= df_copy.pickup_hour, mode='and')\n",
    "            selection = True\n",
    "        if hour_max < 23:\n",
    "            df_copy.select(df_copy.pickup_hour <= hour_max, mode='and')\n",
    "            selection = True\n",
    "    \n",
    "    return df_copy, selection"
   ]
  },
  {
   "cell_type": "code",
   "execution_count": null,
   "metadata": {
    "ExecuteTime": {
     "end_time": "2020-08-24T10:12:41.273180Z",
     "start_time": "2020-08-24T10:12:41.136970Z"
    }
   },
   "outputs": [],
   "source": [
    "df_copy, selection = create_selection(hours=None)\n",
    "df_copy.count(selection=selection, progress='widget')"
   ]
  },
  {
   "cell_type": "code",
   "execution_count": null,
   "metadata": {
    "ExecuteTime": {
     "end_time": "2020-08-24T10:12:51.655822Z",
     "start_time": "2020-08-24T10:12:47.824986Z"
    }
   },
   "outputs": [],
   "source": [
    "df_copy, selection = create_selection(hours=[12, 15])\n",
    "df_copy.count(selection=selection, progress='widget')"
   ]
  },
  {
   "cell_type": "markdown",
   "metadata": {},
   "source": [
    "### Compute heatmap data"
   ]
  },
  {
   "cell_type": "code",
   "execution_count": null,
   "metadata": {
    "ExecuteTime": {
     "end_time": "2020-08-24T10:14:10.678559Z",
     "start_time": "2020-08-24T10:14:10.675300Z"
    }
   },
   "outputs": [],
   "source": [
    "def compute_heatmap_data(hours, heatmap_limits):\n",
    "    df_copy, selection =  create_selection(hours=hours)\n",
    "    heatmap_data_array = df_copy.count(binby=[df_copy.pickup_longitude, df_copy.pickup_latitude],\n",
    "                                       selection=selection,\n",
    "                                       limits=heatmap_limits,\n",
    "                                       shape=256,\n",
    "                                       array_type='xarray')\n",
    "    return heatmap_data_array"
   ]
  },
  {
   "cell_type": "code",
   "execution_count": null,
   "metadata": {
    "ExecuteTime": {
     "end_time": "2020-08-24T10:14:13.979267Z",
     "start_time": "2020-08-24T10:14:13.730385Z"
    }
   },
   "outputs": [],
   "source": [
    "heatmap_limits_initial = [[-74.05, -73.75], [40.58, 40.90]]\n",
    "\n",
    "data_array = compute_heatmap_data(hours=None, heatmap_limits=heatmap_limits_initial)\n",
    "data_array"
   ]
  },
  {
   "cell_type": "markdown",
   "metadata": {},
   "source": [
    "### Create the heatmap figure"
   ]
  },
  {
   "cell_type": "code",
   "execution_count": null,
   "metadata": {
    "ExecuteTime": {
     "end_time": "2020-08-24T10:15:49.582394Z",
     "start_time": "2020-08-24T10:15:49.575119Z"
    }
   },
   "outputs": [],
   "source": [
    "def create_figure_heatmap(data_array, heatmap_limits, trip_start=None, trip_end=None):\n",
    "\n",
    "    # Do the layout of the figure\n",
    "    legend = go.layout.Legend(orientation='h',\n",
    "                              x=0.0,\n",
    "                              y=0.05,\n",
    "                              font={'color': 'azure'},\n",
    "                              bgcolor='royalblue',\n",
    "                              itemclick=False,\n",
    "                              itemdoubleclick=False)\n",
    "    \n",
    "    margin = go.layout.Margin(l=0, r=0, b=0, t=30)\n",
    "    \n",
    "    layout = go.Layout(height=600, \n",
    "                       title=None,\n",
    "                       margin=margin,\n",
    "                       legend=legend,\n",
    "                       xaxis=go.layout.XAxis(title='Longitude', range=heatmap_limits[0]),\n",
    "                       yaxis=go.layout.YAxis(title='Latitude', range=heatmap_limits[1]))\n",
    "\n",
    "    # The actual figure\n",
    "    fig = px.imshow(np.log1p(data_array).T, origin='lower')\n",
    "    fig.layout = layout\n",
    "    \n",
    "    # add markers for the points clicked\n",
    "    def add_point(x, y, **kwargs):\n",
    "        fig.add_trace(go.Scatter(x=[x], y=[y], marker_color='azure', marker_size=8, mode='markers', showlegend=True, **kwargs))\n",
    "    \n",
    "    if trip_start:\n",
    "        add_point(trip_start[0], trip_start[1], name='Trip start', marker_symbol='circle')\n",
    "    \n",
    "    if trip_end:\n",
    "        add_point(trip_end[0], trip_end[1], name='Trip end', marker_symbol='x')\n",
    "\n",
    "    return fig"
   ]
  },
  {
   "cell_type": "code",
   "execution_count": null,
   "metadata": {
    "ExecuteTime": {
     "end_time": "2020-08-24T10:16:21.491448Z",
     "start_time": "2020-08-24T10:16:21.110761Z"
    }
   },
   "outputs": [],
   "source": [
    "trip_start_initial = -73.78223, 40.64438 # JFK\n",
    "trip_end_initial = -73.99, 40.75  # Manhatten\n",
    "\n",
    "create_figure_heatmap(data_array=data_array, \n",
    "                      heatmap_limits=heatmap_limits_initial, \n",
    "                      trip_start=trip_start_initial, \n",
    "                      trip_end=trip_end_initial)"
   ]
  },
  {
   "cell_type": "markdown",
   "metadata": {},
   "source": [
    "### Compute trip details"
   ]
  },
  {
   "cell_type": "code",
   "execution_count": null,
   "metadata": {
    "ExecuteTime": {
     "end_time": "2020-08-24T10:17:29.721998Z",
     "start_time": "2020-08-24T10:17:29.716967Z"
    }
   },
   "outputs": [],
   "source": [
    "def compute_trip_details(hours=None, trip_start=None, trip_end=None):\n",
    "    df_copy, selection = create_selection(hours=hours)\n",
    "    \n",
    "    # Radius around which to select trips\n",
    "    # One mile is ~0.0145 deg; and in NYC there are approx 20 blocks per mile\n",
    "    # We will select a radius of 3 blocks\n",
    "    r = 0.0145 / 20 * 3\n",
    "    pickup_long, pickup_lat = trip_start\n",
    "    dropoff_long, dropoff_lat = trip_end\n",
    "    \n",
    "    selection_pickup = (df_copy.pickup_longitude - pickup_long)**2 + (df_copy.pickup_latitude - pickup_lat)**2 <= r**2\n",
    "    selection_dropoff = (df_copy.dropoff_longitude - dropoff_long)**2 + (df_copy.dropoff_latitude - dropoff_lat)**2 <= r**2\n",
    "    \n",
    "    df_copy.select(selection_pickup & selection_dropoff, mode='and')\n",
    "    selection = True  # After this step, selection is alwasy True; one always has an origin and destination\n",
    "    \n",
    "    return {'counts': df_copy.count(selection=selection),\n",
    "            'counts_fare': df_copy.count(binby=[df_copy.total_amount], selection=selection, limits=[0, 50], shape=25),\n",
    "           }"
   ]
  },
  {
   "cell_type": "code",
   "execution_count": null,
   "metadata": {
    "ExecuteTime": {
     "end_time": "2020-08-24T10:17:55.667256Z",
     "start_time": "2020-08-24T10:17:49.624027Z"
    }
   },
   "outputs": [],
   "source": [
    "%%time\n",
    "trip_details = compute_trip_details(hours=None, trip_start=trip_start_initial, trip_end=trip_end_initial)\n",
    "trip_details"
   ]
  },
  {
   "cell_type": "code",
   "execution_count": null,
   "metadata": {},
   "outputs": [],
   "source": [
    "%%time\n",
    "trip_details = compute_trip_details(hours=[7, 10], trip_start=trip_start_initial, trip_end=trip_end_initial)\n",
    "trip_details"
   ]
  },
  {
   "cell_type": "markdown",
   "metadata": {
    "ExecuteTime": {
     "end_time": "2020-08-13T22:14:09.958161Z",
     "start_time": "2020-08-13T22:14:01.237882Z"
    }
   },
   "source": [
    "### Create histograms "
   ]
  },
  {
   "cell_type": "code",
   "execution_count": null,
   "metadata": {
    "ExecuteTime": {
     "end_time": "2020-08-24T10:31:28.912813Z",
     "start_time": "2020-08-24T10:31:28.906778Z"
    }
   },
   "outputs": [],
   "source": [
    "def create_histogram_figure(counts, title=None, xlabel=None, ylabel=None):\n",
    "    \n",
    "    # Create the bar figure\n",
    "    x = df.bin_centers(expression=df.total_amount, limits=[0, 50], shape=25)\n",
    "    bars = px.bar(x=x, y=counts, color_discrete_sequence=['royalblue'] * 25)\n",
    "    \n",
    "    \n",
    "    # Layout\n",
    "    title = go.layout.Title(text=title, x=0.5, y=1, font={'color': 'black'})\n",
    "    margin = go.layout.Margin(l=0, r=0, b=0, t=30)\n",
    "    legend = go.layout.Legend(orientation='h',\n",
    "                              bgcolor='rgba(0,0,0,0)',\n",
    "                              x=0.5,\n",
    "                              y=1,\n",
    "                              itemclick=False,\n",
    "                              itemdoubleclick=False)\n",
    "    layout = go.Layout(height=230,\n",
    "                       margin=margin,\n",
    "                       legend=legend,\n",
    "                       title=title,\n",
    "                       xaxis=go.layout.XAxis(title=xlabel),\n",
    "                       yaxis=go.layout.YAxis(title=ylabel),\n",
    "                       plot_bgcolor=\"#F9F9F9\",\n",
    "                       paper_bgcolor=\"#F9F9F9\")\n",
    "                       \n",
    "    \n",
    "    # Now calculate the most likely value (peak of the histogram)\n",
    "    peak = np.round(x[np.argmax(counts)], 2)\n",
    "\n",
    "    return go.Figure(data=bars, layout=layout), peak"
   ]
  },
  {
   "cell_type": "code",
   "execution_count": null,
   "metadata": {
    "ExecuteTime": {
     "end_time": "2020-08-24T10:31:31.650223Z",
     "start_time": "2020-08-24T10:31:31.606347Z"
    }
   },
   "outputs": [],
   "source": [
    "fig, peak = create_histogram_figure(counts=trip_details['counts_fare'], \n",
    "                                    title='Fare amount', xlabel='Fare amount', ylabel='Number of trips')\n",
    "fig"
   ]
  },
  {
   "cell_type": "code",
   "execution_count": null,
   "metadata": {},
   "outputs": [],
   "source": [
    "peak"
   ]
  },
  {
   "cell_type": "markdown",
   "metadata": {},
   "source": [
    "## Let us build a Dash application!\n",
    "\n",
    "Instantiate the App"
   ]
  },
  {
   "cell_type": "code",
   "execution_count": null,
   "metadata": {},
   "outputs": [],
   "source": [
    "app = JupyterDash(__name__, external_stylesheets=[])"
   ]
  },
  {
   "cell_type": "markdown",
   "metadata": {},
   "source": [
    "Define the app layout"
   ]
  },
  {
   "cell_type": "code",
   "execution_count": null,
   "metadata": {},
   "outputs": [],
   "source": [
    "app.layout = html.Div(className='app-body', children=[\n",
    "    # Stores\n",
    "    dcc.Store(id='map_clicks', data=0),\n",
    "    dcc.Store(id='trip_start', data=trip_start_initial),\n",
    "    dcc.Store(id='trip_end', data=trip_end_initial),\n",
    "    dcc.Store(id='heatmap_limits', data=heatmap_limits_initial),\n",
    "\n",
    "    # Control panel\n",
    "    html.Div(className=\"row\", id='control-panel', children=[\n",
    "        html.Div(className=\"four columns pretty_container\", children=[\n",
    "            html.Label('Select pick-up hours'),\n",
    "            dcc.RangeSlider(id='hours',\n",
    "                            value=[0, 23],\n",
    "                            min=0, max=23,\n",
    "                            marks={i: str(i) for i in range(0, 24, 3)})\n",
    "        ]),\n",
    "    ]),\n",
    "\n",
    "    # Visuals\n",
    "    html.Div(className=\"row\", children=[\n",
    "             html.Div(className=\"seven columns pretty_container\", children=[\n",
    "                dcc.Markdown(children='_Click on the map to select trip start and destination._'),\n",
    "                dcc.Graph(id='heatmap_figure',\n",
    "                          figure=create_figure_heatmap(data_array,\n",
    "                                                       heatmap_limits_initial,\n",
    "                                                       trip_start_initial,\n",
    "                                                       trip_end_initial))\n",
    "             ]),\n",
    "             html.Div(className=\"five columns pretty_container\", children=[\n",
    "                dcc.Graph(id='trip_summary_amount_figure'),\n",
    "                dcc.Markdown(id='trip_summary_md')\n",
    "             ]),\n",
    "    ]),\n",
    "])"
   ]
  },
  {
   "cell_type": "markdown",
   "metadata": {},
   "source": [
    "### Define user interactions via callbacks\n",
    "\n",
    "Update the heatmap when data ranges and the hours selection has changed"
   ]
  },
  {
   "cell_type": "code",
   "execution_count": null,
   "metadata": {},
   "outputs": [],
   "source": [
    "@app.callback(Output('heatmap_figure', 'figure'),\n",
    "              [Input('hours', 'value'),\n",
    "               Input('heatmap_limits', 'data'),\n",
    "               Input('trip_start', 'data'),\n",
    "               Input('trip_end', 'data')],\n",
    "              prevent_initial_call=True)\n",
    "def update_heatmap_fiture(hours, heatmap_limits, trip_start, trip_end):\n",
    "    data_array = compute_heatmap_data(hours, heatmap_limits)\n",
    "    return create_figure_heatmap(data_array, heatmap_limits, trip_start, trip_end)"
   ]
  },
  {
   "cell_type": "markdown",
   "metadata": {},
   "source": [
    "Update the heamap data range given some user interaction"
   ]
  },
  {
   "cell_type": "code",
   "execution_count": null,
   "metadata": {},
   "outputs": [],
   "source": [
    "@app.callback(Output('heatmap_limits', 'data'),\n",
    "              [Input('heatmap_figure', 'relayoutData')],\n",
    "              [State('heatmap_limits', 'data')],\n",
    "              prevent_initial_call=True)\n",
    "def update_limits(relayoutData, heatmap_limits):\n",
    "    if relayoutData is None:\n",
    "        raise dash.exceptions.PreventUpdate\n",
    "    elif relayoutData is not None and 'xaxis.range[0]' in relayoutData:\n",
    "        heatmap_limits = [[relayoutData['xaxis.range[0]'], relayoutData['xaxis.range[1]']],\n",
    "                          [relayoutData['yaxis.range[0]'], relayoutData['yaxis.range[1]']]]\n",
    "    else:\n",
    "        raise dash.exceptions.PreventUpdate\n",
    "        if heatmap_limits is None:\n",
    "            heatmap_limits = heatmap_limits_initial\n",
    "    return heatmap_limits"
   ]
  },
  {
   "cell_type": "markdown",
   "metadata": {},
   "source": [
    "Heatmap click interaction"
   ]
  },
  {
   "cell_type": "code",
   "execution_count": null,
   "metadata": {},
   "outputs": [],
   "source": [
    "@app.callback([Output('map_clicks', 'data'),\n",
    "               Output('trip_start', 'data'),\n",
    "               Output('trip_end', 'data')],\n",
    "              [Input('heatmap_figure', 'clickData')],\n",
    "              [State('map_clicks', 'data'),\n",
    "               State('trip_start', 'data'),\n",
    "               State('trip_end', 'data')])\n",
    "def click_heatmap_action(click_data_heatmap, map_clicks, trip_start, trip_end):\n",
    "    if click_data_heatmap is not None:\n",
    "        click = click_data_heatmap['points'][0]['x'], click_data_heatmap['points'][0]['y']\n",
    "        if map_clicks % 2 == 0:\n",
    "            trip_start = click\n",
    "        else:\n",
    "            trip_end = click\n",
    "        map_clicks += 1\n",
    "    return map_clicks, trip_start, trip_end"
   ]
  },
  {
   "cell_type": "markdown",
   "metadata": {},
   "source": [
    "Update the trip statistics based on new trip information"
   ]
  },
  {
   "cell_type": "code",
   "execution_count": null,
   "metadata": {},
   "outputs": [],
   "source": [
    "@app.callback([Output('trip_summary_amount_figure', 'figure'),\n",
    "               Output('trip_summary_md', 'children')],\n",
    "              [Input('hours', 'value'),\n",
    "               Input('trip_start', 'data'),\n",
    "               Input('trip_end', 'data')])\n",
    "def update_trip_details(hours, trip_start, trip_end):\n",
    "    trip_detail_data = compute_trip_details(hours, trip_start, trip_end)\n",
    "\n",
    "    counts = trip_detail_data['counts']\n",
    "    counts_fare = trip_detail_data['counts_fare']\n",
    "\n",
    "    # Trip amount histogram\n",
    "    fig_fare, peak_fare = create_histogram_figure(counts=counts_fare,\n",
    "                                                  title=None,\n",
    "                                                  xlabel='Total fare amount [$]',\n",
    "                                                  ylabel='Number or rides')\n",
    "    # Trip summary statistics\n",
    "    trip_stats = f'''\n",
    "                    **Trip statistics:**\n",
    "                    - Number of rides: {counts}\n",
    "                    - Most likely total trip cost: ${peak_fare}\n",
    "                  '''\n",
    "\n",
    "\n",
    "    return fig_fare, trip_stats"
   ],
   "cell_type": "code",
   "outputs": [],
   "metadata": {},
   "execution_count": 41
  },
  {
   "source": [
    "if in_dash_enterprise:\n",
    "    app.run_server()\n",
    "else:\n",
    "    app.run_server(mode=\"jupyterlab\", port=8060)"
   ],
   "cell_type": "code",
   "outputs": [
    {
     "output_type": "stream",
     "name": "stdout",
     "text": "Dash app running on https://dash-enterprise.vaex.io/Workspaces/view/taxi-webinar/\n"
    }
   ],
   "metadata": {},
   "execution_count": 43
  },
  {
   "cell_type": "code",
   "execution_count": null,
   "metadata": {},
   "outputs": [],
   "source": []
  }
 ],
 "metadata": {
  "kernelspec": {
   "display_name": "Python 3",
   "language": "python",
   "name": "python3"
  },
  "language_info": {
   "codemirror_mode": {
    "name": "ipython",
    "version": 3
   },
   "file_extension": ".py",
   "mimetype": "text/x-python",
   "name": "python",
   "nbconvert_exporter": "python",
   "pygments_lexer": "ipython3",
   "version": "3.8.5"
  }
 },
 "nbformat": 4,
 "nbformat_minor": 4
}
